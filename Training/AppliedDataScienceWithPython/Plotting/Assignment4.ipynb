{
 "cells": [
  {
   "cell_type": "markdown",
   "metadata": {},
   "source": [
    "# Assignment 4\n",
    "\n",
    "Before working on this assignment please read these instructions fully. In the submission area, you will notice that you can click the link to **Preview the Grading** for each step of the assignment. This is the criteria that will be used for peer grading. Please familiarize yourself with the criteria before beginning the assignment.\n",
    "\n",
    "This assignment requires that you to find **at least** two datasets on the web which are related, and that you visualize these datasets to answer a question with the broad topic of **sports or athletics** (see below) for the region of **Paris, Paris, France**, or **France** more broadly.\n",
    "\n",
    "You can merge these datasets with data from different regions if you like! For instance, you might want to compare **Paris, Paris, France** to Ann Arbor, USA. In that case at least one source file must be about **Paris, Paris, France**.\n",
    "\n",
    "You are welcome to choose datasets at your discretion, but keep in mind **they will be shared with your peers**, so choose appropriate datasets. Sensitive, confidential, illicit, and proprietary materials are not good choices for datasets for this assignment. You are welcome to upload datasets of your own as well, and link to them using a third party repository such as github, bitbucket, pastebin, etc. Please be aware of the Coursera terms of service with respect to intellectual property.\n",
    "\n",
    "Also, you are welcome to preserve data in its original language, but for the purposes of grading you should provide english translations. You are welcome to provide multiple visuals in different languages if you would like!\n",
    "\n",
    "As this assignment is for the whole course, you must incorporate principles discussed in the first week, such as having as high data-ink ratio (Tufte) and aligning with Cairo’s principles of truth, beauty, function, and insight.\n",
    "\n",
    "Here are the assignment instructions:\n",
    "\n",
    " * State the region and the domain category that your data sets are about (e.g., **Paris, Paris, France** and **sports or athletics**).\n",
    " * You must state a question about the domain category and region that you identified as being interesting.\n",
    " * You must provide at least two links to available datasets. These could be links to files such as CSV or Excel files, or links to websites which might have data in tabular form, such as Wikipedia pages.\n",
    " * You must upload an image which addresses the research question you stated. In addition to addressing the question, this visual should follow Cairo's principles of truthfulness, functionality, beauty, and insightfulness.\n",
    " * You must contribute a short (1-2 paragraph) written justification of how your visualization addresses your stated research question.\n",
    "\n",
    "What do we mean by **sports or athletics**?  For this category we are interested in sporting events or athletics broadly, please feel free to creatively interpret the category when building your research question!\n",
    "\n",
    "## Tips\n",
    "* Wikipedia is an excellent source of data, and I strongly encourage you to explore it for new data sources.\n",
    "* Many governments run open data initiatives at the city, region, and country levels, and these are wonderful resources for localized data sources.\n",
    "* Several international agencies, such as the [United Nations](http://data.un.org/), the [World Bank](http://data.worldbank.org/), the [Global Open Data Index](http://index.okfn.org/place/) are other great places to look for data.\n",
    "* This assignment requires you to convert and clean datafiles. Check out the discussion forums for tips on how to do this from various sources, and share your successes with your fellow students!\n",
    "\n",
    "## Example\n",
    "Looking for an example? Here's what our course assistant put together for the **Ann Arbor, MI, USA** area using **sports and athletics** as the topic. [Example Solution File](./readonly/Assignment4_example.pdf)"
   ]
  },
  {
   "cell_type": "code",
   "execution_count": 25,
   "metadata": {
    "collapsed": false
   },
   "outputs": [],
   "source": [
    "import matplotlib.pyplot as plt\n",
    "import pandas as pd\n",
    "import numpy as np\n",
    "\n",
    "df2 = pd.read_csv('SFR.csv')\n",
    "df = pd.read_csv('meanBudgetFirstDivision.csv')\n",
    "\n",
    "year = df['Year']\n",
    "Mean = df['Mean budget 1st division']\n",
    "Results = df['European tournament (6 nations) France results']\n",
    "\n",
    "year2 = df2['Year']\n",
    "budgetDifference = df2['SF Rugby'] - df2['Moyenne']\n",
    "Mean2 = df2['Moyenne']\n",
    "classement = df2['Classement']\n",
    "\n",
    "f, (ax1, ax3) = plt.subplots(1, 2, sharey=False,figsize=(15,5))\n",
    "\n",
    "color3='red'\n",
    "ax3.plot(year, Mean,color=color3, linewidth=3, label = \"Mean budget of the 14 major \\nfrench teams\" )\n",
    "ax3.set_xlabel('Year')\n",
    "ax3.set_ylabel('M€', color=color3)\n",
    "ax3.tick_params(axis='y', labelcolor=color3)\n",
    "ax3.legend(loc=\"upper left\")\n",
    "\n",
    "#df2.plot(kind='bar',x='Year',y='European tournament (6 nations) France results',ax=ax)\n",
    "ax4=ax3.twinx()\n",
    "color4='black'\n",
    "ax4.bar(year, Results,alpha=0.4,color=color4)\n",
    "ax4.set_ylabel('Rank of France national team in EU Tournament \\n(over 6 nations)', color=color4)\n",
    "ax4.tick_params(axis='y', labelcolor=color4)\n",
    "ax4.set_ylim([1,6])\n",
    "\n",
    "colorSF = 'red'\n",
    "ax1.plot(year2, df2['SF Rugby'],color=colorSF, linewidth=3,linestyle='--',label=\"Paris Rugby team budget\")\n",
    "ax1.plot(year2, Mean2,color=color3, linewidth=3,label=\"Mean budget of the 14 major french teams\")\n",
    "ax1.set_xlabel('Year')\n",
    "ax1.set_ylabel('M€', color=colorSF)\n",
    "ax1.tick_params(axis='y', labelcolor=colorSF)\n",
    "ax1.legend(loc=\"upper left\")#\n",
    "\n",
    "ax2=ax1.twinx()\n",
    "color2='blue'\n",
    "ax2.bar(year2, classement,color=color2,alpha=0.3)\n",
    "ax2.set_ylabel('Rank of Paris rugby team \\n in french Tournament (over 14)', color=color2)\n",
    "ax2.tick_params(axis='y', labelcolor=color2)\n",
    "ax2.set_ylim([1,14])\n",
    "\n",
    "\n",
    "\n",
    "\n",
    "ax1.spines['top'].set_visible(False)\n",
    "ax2.spines['top'].set_visible(False)\n",
    "ax4.spines['top'].set_visible(False)\n",
    "ax3.spines['top'].set_visible(False)\n",
    "plt.tight_layout()\n",
    "#plt.show()\n"
   ]
  },
  {
   "cell_type": "code",
   "execution_count": null,
   "metadata": {
    "collapsed": true
   },
   "outputs": [],
   "source": []
  }
 ],
 "metadata": {
  "kernelspec": {
   "display_name": "Python 3",
   "language": "python",
   "name": "python3"
  },
  "language_info": {
   "codemirror_mode": {
    "name": "ipython",
    "version": 3
   },
   "file_extension": ".py",
   "mimetype": "text/x-python",
   "name": "python",
   "nbconvert_exporter": "python",
   "pygments_lexer": "ipython3",
   "version": "3.6.2"
  }
 },
 "nbformat": 4,
 "nbformat_minor": 1
}
